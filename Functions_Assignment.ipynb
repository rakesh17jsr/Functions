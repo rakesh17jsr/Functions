{
  "nbformat": 4,
  "nbformat_minor": 0,
  "metadata": {
    "colab": {
      "provenance": []
    },
    "kernelspec": {
      "name": "python3",
      "display_name": "Python 3"
    },
    "language_info": {
      "name": "python"
    }
  },
  "cells": [
    {
      "cell_type": "markdown",
      "source": [
        "**Theory Q&A:**\n",
        "\n",
        "**Q1  : What is the difference between a function and a method in Python?**\n",
        "\n",
        "**Ans : A function** is an independent block of code that performs a spacific task, while **a method** is a function that is associated with an object or class and operates on the date within that class or object.\n",
        "\n",
        "**Function:**\n",
        "\n",
        "*   **Defination:** Afunction is defined using **def** outside any class, and can be called directly by its name.\n",
        "*   **Scope:** Functions are not associated with any object and can be used anywhare."
      ],
      "metadata": {
        "id": "f-_LuBKEa54q"
      }
    },
    {
      "cell_type": "code",
      "execution_count": null,
      "metadata": {
        "id": "QF8WO1HxuB4R",
        "colab": {
          "base_uri": "https://localhost:8080/"
        },
        "outputId": "b323180e-6198-4897-afd9-cdf83585f42b"
      },
      "outputs": [
        {
          "output_type": "stream",
          "name": "stdout",
          "text": [
            "Hello, Ravi\n"
          ]
        }
      ],
      "source": [
        "# Function Example:\n",
        "def greet(name):\n",
        "  return \"Hello, \" + name\n",
        "\n",
        "print(greet(\"Ravi\"))  # In this example, greet is a simple function that takes a name and returns a greeting."
      ]
    },
    {
      "cell_type": "markdown",
      "source": [
        "**Method:**\n",
        "\n",
        "*   **Definition:** A method is defined inside a class and operations on objects of that class, with the first parameter usually **self** (referring to the object).\n",
        "*   **Scope:** Methods are always called using an object or a class reference."
      ],
      "metadata": {
        "id": "lV9Al-uSgDqy"
      }
    },
    {
      "cell_type": "code",
      "source": [
        "# Method Example:\n",
        "class Greeter:\n",
        "  def greet(self, name):\n",
        "    return \"Hello, \" + name\n",
        "\n",
        "g = Greeter()\n",
        "print(g.greet(\"Ravi\"))  # In this example, greet is a method of the Greeter class."
      ],
      "metadata": {
        "colab": {
          "base_uri": "https://localhost:8080/"
        },
        "id": "CTXu5LNYhZ-_",
        "outputId": "b3def6d0-fea6-48a8-ce49-5c112f652600"
      },
      "execution_count": null,
      "outputs": [
        {
          "output_type": "stream",
          "name": "stdout",
          "text": [
            "Hello, Ravi\n"
          ]
        }
      ]
    },
    {
      "cell_type": "markdown",
      "source": [
        "**Differences between Function and Method**\n",
        "\n",
        "| **Attribute**                |**Function**                       |**Method**                          |\n",
        "|------------------------------|-----------------------------------|-----------------------------|\n",
        "|Definition location           |Outside a class                    |Inside a class                      |\n",
        "|Association                   |Independent                        |Tied to class or object             |\n",
        "|Call Syntax                   |greet(\"Rakesh\")                    |g.greet(\"Rakesh\")                   |\n",
        "|First Parameter               |Usually normal parameters          |First param is usually self of class|\n",
        "|Access to Object Data         |No                                 |Yes, via self or class              |\n",
        "|Used for Object Oriented      |No                                 |Yes                                 |\n",
        "\n",
        "\n",
        "**Summary**\n",
        "\n",
        "\n",
        "*   **All methods are functions, but not all finctions are method.** Methods are always part of a class, while finctions are standalone code blocks.\n",
        "*   Use finctions for general tasks, and methods for tasks that need access to an object's data."
      ],
      "metadata": {
        "id": "sQP2t6ahpRl9"
      }
    },
    {
      "cell_type": "markdown",
      "source": [
        "**Q2. Explain the concept of function arguments and parameters in Python.**\n",
        "\n",
        "**Ans :** In Python, **parameters** and **arguments** are related but distinct terms used in functions.\n",
        "\n",
        "*   **Parameters** are variables that are defined by the function when it is decleared. They act as placeholders inside the function that will receive values when the function is called. For example, in def sum(a, b): a and b are parameters.\n",
        "\n",
        "*   **Arguments** are the actual values or data you pass into the function when you call it. For example, in sum(1, 2), the value 1 and 2 are arguments.\n",
        "\n",
        "In short, paramenters are part of the function definition, while arguments are the real values supplied to the function during a call.\n",
        "\n",
        "Functions can take different types of arguments:\n",
        "\n",
        "*   **Positional arguments:** Arguments passed to the function in the exact order of the parameters.\n",
        "\n",
        "*   **Keyword arguments:** Arguments passed by explicitly naming each parameter.\n",
        "\n",
        "*   **Default arguments:** Parameters with default values that are used if no argument is provided.\n",
        "\n",
        "*   **Arbitrary arguments:** Allows passing a variable number of arguments using *args or **kwargs."
      ],
      "metadata": {
        "id": "d5acBMiIJdQc"
      }
    },
    {
      "cell_type": "code",
      "source": [
        "# Example:\n",
        "\n",
        "def greet(name, greeting=\"Hello\"):\n",
        "  print(greeting, name)\n",
        "\n",
        "greet(\"Rakesh\")  # Users default greeting\n",
        "greet(\"Rakesh\", greeting=\"Hi\")  # Users keyword argument\n"
      ],
      "metadata": {
        "colab": {
          "base_uri": "https://localhost:8080/"
        },
        "id": "Ltv6QWkEOWZ_",
        "outputId": "d4d033f7-e503-47f2-f786-7446470c926c"
      },
      "execution_count": null,
      "outputs": [
        {
          "output_type": "stream",
          "name": "stdout",
          "text": [
            "Hello Rakesh\n",
            "Hi Rakesh\n"
          ]
        }
      ]
    },
    {
      "cell_type": "markdown",
      "source": [
        "This concept helps in making functions flexible and reusable by handling different inputs efficintly. Parameters as placeholders allow the function to operate on data passed as arguments when called."
      ],
      "metadata": {
        "id": "_KUnTIRYRMm2"
      }
    },
    {
      "cell_type": "markdown",
      "source": [
        "**Q3. What are the different ways to define and call a function in Python?**\n",
        "\n",
        "**Ans:** There are several ways to define and call a function in Python. Here is a comprehensive overview:\n",
        "\n",
        "**Defining a Function in Python**\n",
        "\n",
        "*   Functions are defined using the def keyword, followed by the function name and parentheses which may include parameters, ending with a colon.\n",
        "\n",
        "*   The indented code block after the colon defines the body of the function."
      ],
      "metadata": {
        "id": "RpTxDH3WSiJh"
      }
    },
    {
      "cell_type": "code",
      "source": [
        "# Example of a basic function without parameters:\n",
        "\n",
        "def greet():\n",
        "  print(\"Hellow, World!\")"
      ],
      "metadata": {
        "id": "3do0HRj9UwLg"
      },
      "execution_count": null,
      "outputs": []
    },
    {
      "cell_type": "markdown",
      "source": [
        "*    Functions can also take parameters to accept input values:"
      ],
      "metadata": {
        "id": "CX_5ti9bVJH1"
      }
    },
    {
      "cell_type": "code",
      "source": [
        "def add(a, b):\n",
        "  return a + b"
      ],
      "metadata": {
        "id": "6OQ4oTIRVBsm"
      },
      "execution_count": null,
      "outputs": []
    },
    {
      "cell_type": "markdown",
      "source": [
        "*    Functions can have default parameter values:"
      ],
      "metadata": {
        "id": "DL4wusfJV252"
      }
    },
    {
      "cell_type": "code",
      "source": [
        "def greet(name=\"Guest\"):\n",
        "  print(f\"Hello, {name}!\")"
      ],
      "metadata": {
        "id": "Tw5GTs1yWGyR"
      },
      "execution_count": null,
      "outputs": []
    },
    {
      "cell_type": "markdown",
      "source": [
        "*    Functions can accept variable-length argument lists using *args (for positional arguments) and **kwargs (for keyword arguments).\n",
        "\n",
        "*   Python also supports anonymous functions called lambda functions, defined with the lambda keyword, often used for short, simple functions:"
      ],
      "metadata": {
        "id": "zZYTQrmUWr7r"
      }
    },
    {
      "cell_type": "code",
      "source": [
        "add = lambda x, y: x + y"
      ],
      "metadata": {
        "id": "VqivN6MsXAfr"
      },
      "execution_count": null,
      "outputs": []
    },
    {
      "cell_type": "markdown",
      "source": [
        "**Calling a Function in Python**\n",
        "*    To call a function, use the function name followed by parantheses.\n",
        "*    If the function takes arguments, pass them inside the parantheses:"
      ],
      "metadata": {
        "id": "yWIqrg8CXQQL"
      }
    },
    {
      "cell_type": "code",
      "source": [
        "greet()  # Calls greet without arguments\n",
        "greet(\"Rakesh\")  # Calls greet with an argument\n",
        "add(3, 5)  # Calls add with positional arguments"
      ],
      "metadata": {
        "colab": {
          "base_uri": "https://localhost:8080/"
        },
        "id": "Nn4aHhWZXv8u",
        "outputId": "ebbfe228-d09b-490f-9a43-76dc26db996e"
      },
      "execution_count": null,
      "outputs": [
        {
          "output_type": "stream",
          "name": "stdout",
          "text": [
            "Hello, Guest!\n",
            "Hello, Rakesh!\n"
          ]
        },
        {
          "output_type": "execute_result",
          "data": {
            "text/plain": [
              "8"
            ]
          },
          "metadata": {},
          "execution_count": 18
        }
      ]
    },
    {
      "cell_type": "markdown",
      "source": [
        "*    Lambda functions are called by their variable name with arguments:"
      ],
      "metadata": {
        "id": "Tdm9Oej3YO7Z"
      }
    },
    {
      "cell_type": "code",
      "source": [
        "result = add(3, 5) # result is 8\n",
        "add(3,5)"
      ],
      "metadata": {
        "colab": {
          "base_uri": "https://localhost:8080/"
        },
        "id": "SQxXapmhYiO1",
        "outputId": "03c91f8f-de8b-47d6-ff92-a17775785522"
      },
      "execution_count": null,
      "outputs": [
        {
          "output_type": "execute_result",
          "data": {
            "text/plain": [
              "8"
            ]
          },
          "metadata": {},
          "execution_count": 16
        }
      ]
    },
    {
      "cell_type": "markdown",
      "metadata": {
        "id": "d23df77d"
      },
      "source": [
        "* Functions can return values using the return keyword, and the returned value can be stored in a variable."
      ]
    },
    {
      "cell_type": "markdown",
      "metadata": {
        "id": "80650911"
      },
      "source": [
        "**Q4. What is the purpose of the `return` statement in a Python function?**\n",
        "\n",
        "**Ans:** The return statement in a Python function serves the purpose of sending back a result from the function to the caller. Here's what it does:\n",
        "\n",
        "**Purpose of return:**\n",
        "\n",
        "1. **Ends the function execution:** When Python encounters a return statement, it immediately exits the function.\n",
        "\n",
        "2. **Sends data back:** It passes the specified value or object back to the place where the function was called.\n",
        "\n",
        "3. **Allows reuse of results:** The returned value can be stored in a variable, used in expressions, or passed to other functions.\n",
        "\n",
        "Without a return statement, the function would perform its task but not give back any result to the caller."
      ]
    },
    {
      "cell_type": "code",
      "source": [
        "# Example:\n",
        "\n",
        "def add(a, b):\n",
        "    result = a + b\n",
        "    return result\n",
        "\n",
        "sum = add(5, 3)\n",
        "print(sum)  # Output: 8"
      ],
      "metadata": {
        "colab": {
          "base_uri": "https://localhost:8080/"
        },
        "id": "Gf6S6J4tlONB",
        "outputId": "bea641e0-8e4f-4e91-e2a9-2c883804b739"
      },
      "execution_count": null,
      "outputs": [
        {
          "output_type": "stream",
          "name": "stdout",
          "text": [
            "8\n"
          ]
        }
      ]
    },
    {
      "cell_type": "markdown",
      "source": [
        "**Q5. What are iterators in Python and how do they differ from iterables?**\n",
        "\n",
        "**Ans:** In Python, **iterators** and **iterables** are closely related concepts used for looping through data, but they have distinct roles.\n",
        "\n",
        "**Iterable:**\n",
        "\n",
        "An iterable is any Python object capable of returning its members one at a time. It implements the __iter__() method. Common examples include:\n",
        "\n",
        "*   Lists\n",
        "*   Tuples\n",
        "*   Strings\n",
        "*   Dictionaries\n",
        "*   Sets\n",
        "\n",
        "You can use a for loop on an iterable:"
      ],
      "metadata": {
        "id": "DlobmuxHllY7"
      }
    },
    {
      "cell_type": "code",
      "source": [
        "my_list = [1, 2, 3]\n",
        "# Get an iterator from an iterable using the iter() function:\n",
        "iterator = iter(my_list)\n",
        "\n",
        "# You can use a for loop on an iterable:\n",
        "for item in my_list:\n",
        "    print(item)"
      ],
      "metadata": {
        "colab": {
          "base_uri": "https://localhost:8080/"
        },
        "id": "HyzHRtJGmmM-",
        "outputId": "cafee24c-7e23-49f1-aba1-e27f6a5ae585"
      },
      "execution_count": null,
      "outputs": [
        {
          "output_type": "stream",
          "name": "stdout",
          "text": [
            "1\n",
            "2\n",
            "3\n"
          ]
        }
      ]
    },
    {
      "cell_type": "markdown",
      "source": [
        "**Iterator:**\n",
        "\n",
        "An iterator is an object that represents a stream of data. It implements two methods:"
      ],
      "metadata": {
        "id": "fPLpA3Qimokc"
      }
    },
    {
      "cell_type": "code",
      "source": [
        "# __iter__() :- returns the iterator object itself.\n",
        "# __next__() :- returns the next item in the sequence and raises StopIteration when there are no more items.\n",
        "\n",
        "# You can get an iterator from an iterable using the iter() function:\n",
        "\n",
        "my_list = [1, 2, 3]\n",
        "iterator = iter(my_list)\n",
        "\n",
        "print(next(iterator))  # Output: 1\n",
        "print(next(iterator))  # Output: 2"
      ],
      "metadata": {
        "colab": {
          "base_uri": "https://localhost:8080/"
        },
        "id": "sMfTYfCBoEfb",
        "outputId": "51359166-9cd7-43dc-c849-d3877d7809d7"
      },
      "execution_count": null,
      "outputs": [
        {
          "output_type": "stream",
          "name": "stdout",
          "text": [
            "1\n",
            "2\n"
          ]
        }
      ]
    },
    {
      "cell_type": "markdown",
      "metadata": {
        "id": "be313d7b"
      },
      "source": [
        "**Key Differences**\n",
        "\n",
        "| Feature               | Iterable                  | Iterator                     |\n",
        "|-----------------------|---------------------------|------------------------------|\n",
        "| Definition            | Can be looped over        | Produces items one at a time |\n",
        "| Methods               | Has `__iter__()`          | Has `__iter__()` and `__next__()` |\n",
        "| Usage                 | Used in for loops         | Used with `next()`           |\n",
        "| Examples              | List, tuple, string       | Object from `iter()`         |"
      ]
    },
    {
      "cell_type": "markdown",
      "source": [
        "**Q6. Explain the concept of generators in Python and how they are defined.**\n",
        "\n",
        "**Ans:** In Python, **generators** are a simple and powerful way to create iterators using a function rather than a class. They allow you to iterate over data lazily, meaning they generate items one at a time only when needed, which is memory-efficient especially for large datasets."
      ],
      "metadata": {
        "id": "2D2An9v7qiyw"
      }
    },
    {
      "cell_type": "code",
      "source": [
        "# Here's a basic example:\n",
        "\n",
        "def count_up_to(max):\n",
        "    count = 1\n",
        "    while count <= max:\n",
        "        yield count\n",
        "        count += 1\n",
        "\n",
        "\n",
        "# Using the generator:\n",
        "\n",
        "counter = count_up_to(5)\n",
        "for num in counter:\n",
        "    print(num)"
      ],
      "metadata": {
        "colab": {
          "base_uri": "https://localhost:8080/"
        },
        "id": "oxNCffHcrh_l",
        "outputId": "46bd8701-446d-48c6-c389-e767ef3b45ca"
      },
      "execution_count": null,
      "outputs": [
        {
          "output_type": "stream",
          "name": "stdout",
          "text": [
            "1\n",
            "2\n",
            "3\n",
            "4\n",
            "5\n"
          ]
        }
      ]
    },
    {
      "cell_type": "markdown",
      "source": [
        "**Key Features of Generators**\n",
        "\n",
        "|Feature\t                      |Description                               |\n",
        "|-------------------------------|------------------------------------------|\n",
        "|Memory-efficient\t              |Doesn't store all values in memory                                    |\n",
        "|Lazy evaluation\t              |Generates values on the fly                                       |\n",
        "|Stateful\t                      |Remembers where it left off                                       |\n",
        "|Simpler syntax\t                |Easier than writing iterator classes                                   |"
      ],
      "metadata": {
        "id": "BqVONiLrsGnF"
      }
    },
    {
      "cell_type": "markdown",
      "source": [
        "**Q7. What are the advantages of using generators over regular functions?**\n",
        "\n",
        "**Ans:** Using **generators** in Python offers several advantages over regular functions, especially when dealing with large datasets or streams of data. Here's a breakdown of the benefits, followed by a simple example:\n",
        "\n",
        "**Advantages of Generators**\n",
        "\n",
        "1    **Memory Efficiency:**\n",
        "*    Generators yield items one at a time, which means they don’t store the entire sequence in memory.\n",
        "*    Ideal for large datasets or infinite sequences.\n",
        "\n",
        "2    **Lazy Evaluation:**\n",
        "*    Values are produced only when requested, which can improve performance and reduce load time.\n",
        "\n",
        "3    **State Preservation:**\n",
        "*    Generators automatically save their state between yields, making them useful for tasks like parsing or streaming.\n",
        "\n",
        "4    **Simplified Code:**\n",
        "*    Easier to write and read compared to managing state manually in regular functions or classes.\n",
        "\n",
        "5    **Pipeline Compatibility:**\n",
        "*    Generators can be chained together to form data processing pipelines.\n",
        "\n",
        "\n",
        "**Example: Generator vs Regular Function**\n",
        "\n",
        "**Regular Function (returns a list):**"
      ],
      "metadata": {
        "id": "Tulf0immg9go"
      }
    },
    {
      "cell_type": "code",
      "source": [
        "def get_squares_list(n):\n",
        "  result = []\n",
        "  for i in range(n):\n",
        "    result.append(i * i)\n",
        "  return result\n",
        "\n",
        "print(get_squares_list(5))"
      ],
      "metadata": {
        "colab": {
          "base_uri": "https://localhost:8080/"
        },
        "id": "ndUaUkgcjJY_",
        "outputId": "ad61196c-f94d-453d-a45a-a70fc0995767"
      },
      "execution_count": null,
      "outputs": [
        {
          "output_type": "stream",
          "name": "stdout",
          "text": [
            "[0, 1, 4, 9, 16]\n"
          ]
        }
      ]
    },
    {
      "cell_type": "markdown",
      "source": [
        "**Generator Function (yields values one by one):**"
      ],
      "metadata": {
        "id": "RF-pBN6EkB6y"
      }
    },
    {
      "cell_type": "code",
      "source": [
        "def get_squares_gen(n):\n",
        "    for i in range(n):\n",
        "        yield i * i\n",
        "\n",
        "for square in get_squares_gen(5):\n",
        "    print(square)"
      ],
      "metadata": {
        "colab": {
          "base_uri": "https://localhost:8080/"
        },
        "id": "u0rcSs90kFbz",
        "outputId": "2a612df6-d9cb-4675-97d8-96da85153f4b"
      },
      "execution_count": null,
      "outputs": [
        {
          "output_type": "stream",
          "name": "stdout",
          "text": [
            "0\n",
            "1\n",
            "4\n",
            "9\n",
            "16\n"
          ]
        }
      ]
    },
    {
      "cell_type": "markdown",
      "source": [
        "**Q8. What is a lambda function in Python and when is it typically used?**\n",
        "\n",
        "**Ans:** A **lambda function** in Python is a small, anonymous function defined using the lambda keyword. Unlike regular functions defined with def, lambda functions are typically used for short, throwaway functions where defining a full function would be unnecessary.\n",
        "\n",
        "**Syntax of Lambda Function:**"
      ],
      "metadata": {
        "id": "OiwUALPkknq6"
      }
    },
    {
      "cell_type": "code",
      "source": [
        "lambda arguments: expression\n"
      ],
      "metadata": {
        "id": "2WRDIf6Epqmq"
      },
      "execution_count": null,
      "outputs": []
    },
    {
      "cell_type": "markdown",
      "source": [
        "*    It can have **any number of arguments,** but only one expression.\n",
        "*    The expression is evaluated and returned automatically.\n",
        "\n",
        "**Lambda functions are commonly used:**\n",
        "\n",
        "*    As short callback functions.\n",
        "*    In functional programming tools like map(), filter(), and reduce().\n",
        "*    For sorting or custom key functions\n",
        "\n",
        "**Example 1: Using lambda with map()**"
      ],
      "metadata": {
        "id": "s3krY02zptA0"
      }
    },
    {
      "cell_type": "code",
      "source": [
        "numbers = [1, 2, 3, 4]\n",
        "squares = list(map(lambda x: x * x, numbers))\n",
        "print(squares)  # Output: [1, 4, 9, 16]"
      ],
      "metadata": {
        "colab": {
          "base_uri": "https://localhost:8080/"
        },
        "id": "17bzycyRqLCD",
        "outputId": "c541361a-5a61-469b-e129-13e97046e8e1"
      },
      "execution_count": null,
      "outputs": [
        {
          "output_type": "stream",
          "name": "stdout",
          "text": [
            "[1, 4, 9, 16]\n"
          ]
        }
      ]
    },
    {
      "cell_type": "markdown",
      "source": [
        "**Example 2: Sorting with lambda**"
      ],
      "metadata": {
        "id": "yrn2ilSRqP9y"
      }
    },
    {
      "cell_type": "code",
      "source": [
        "students = [(\"Ravi\", 85), (\"Anita\", 92), (\"Karan\", 78)]\n",
        "# Sort by score\n",
        "sorted_students = sorted(students, key=lambda x: x[1])\n",
        "print(sorted_students)"
      ],
      "metadata": {
        "colab": {
          "base_uri": "https://localhost:8080/"
        },
        "id": "fizx9Ak3qVWw",
        "outputId": "a91fa06d-5422-4d4a-a6c8-03ddfa8cc04b"
      },
      "execution_count": null,
      "outputs": [
        {
          "output_type": "stream",
          "name": "stdout",
          "text": [
            "[('Karan', 78), ('Ravi', 85), ('Anita', 92)]\n"
          ]
        }
      ]
    },
    {
      "cell_type": "markdown",
      "source": [
        "**Example 3: Filtering with lambda**"
      ],
      "metadata": {
        "id": "4xJBoBb_qiFE"
      }
    },
    {
      "cell_type": "code",
      "source": [
        "numbers = [10, 15, 20, 25, 30]\n",
        "even_numbers = list(filter(lambda x: x % 2 == 0, numbers))\n",
        "print(even_numbers)"
      ],
      "metadata": {
        "colab": {
          "base_uri": "https://localhost:8080/"
        },
        "id": "y1GdaWfMqm6m",
        "outputId": "3ecae9f4-53f7-49ee-9376-b5b12106a641"
      },
      "execution_count": null,
      "outputs": [
        {
          "output_type": "stream",
          "name": "stdout",
          "text": [
            "[10, 20, 30]\n"
          ]
        }
      ]
    },
    {
      "cell_type": "markdown",
      "source": [
        "**Q9. Explain the purpose and usage of the `map()` function in Python.**\n",
        "\n",
        "**Ans:** The map() function in Python is used to apply a **given function to all items in an iterable** (like a list, tuple, etc.) and return a new iterable (a map object) with the results.\n",
        "\n",
        "**Purpose of map()**\n",
        "\n",
        "*    To transform data in a collection without using explicit loops.\n",
        "*    It helps write cleaner and more concise code.\n",
        "*    Often used in functional programming style.\n",
        "\n",
        "**Syntax**\n"
      ],
      "metadata": {
        "id": "yOKzkcpQq6Yg"
      }
    },
    {
      "cell_type": "code",
      "source": [
        "map(function, iterable)"
      ],
      "metadata": {
        "id": "xB6miR2KrehC"
      },
      "execution_count": null,
      "outputs": []
    },
    {
      "cell_type": "markdown",
      "source": [
        "*    function: A function that takes one argument (or more, if multiple iterables are passed).\n",
        "*    iterable: A sequence (like list, tuple, etc.) whose elements will be passed to the function.\n",
        "\n",
        "**Example**\n",
        "\n",
        "Let's say we want to square each number in a list:"
      ],
      "metadata": {
        "id": "gkU8TaNJrfX9"
      }
    },
    {
      "cell_type": "code",
      "source": [
        "def square(x):\n",
        "    return x * x\n",
        "\n",
        "numbers = [1, 2, 3, 4, 5]\n",
        "squared = map(square, numbers)\n",
        "\n",
        "print(list(squared))"
      ],
      "metadata": {
        "colab": {
          "base_uri": "https://localhost:8080/"
        },
        "id": "8OxB-RXwrzo3",
        "outputId": "97afc87f-ad55-40bf-f0de-6739966eb7d4"
      },
      "execution_count": null,
      "outputs": [
        {
          "output_type": "stream",
          "name": "stdout",
          "text": [
            "[1, 4, 9, 16, 25]\n"
          ]
        }
      ]
    },
    {
      "cell_type": "markdown",
      "source": [
        "**Using lambda with map()**\n",
        "\n",
        "You can use a lambda (anonymous function) for quick operations:"
      ],
      "metadata": {
        "id": "nW7zk6cVr53N"
      }
    },
    {
      "cell_type": "code",
      "source": [
        "numbers = [1, 2, 3, 4, 5]\n",
        "squared = map(lambda x: x ** 2, numbers)\n",
        "\n",
        "print(list(squared))"
      ],
      "metadata": {
        "colab": {
          "base_uri": "https://localhost:8080/"
        },
        "id": "otQHmDEjr-oD",
        "outputId": "23900abe-859b-4685-96fd-99ce2a63ac1a"
      },
      "execution_count": null,
      "outputs": [
        {
          "output_type": "stream",
          "name": "stdout",
          "text": [
            "[1, 4, 9, 16, 25]\n"
          ]
        }
      ]
    },
    {
      "cell_type": "markdown",
      "source": [
        "**Multiple Iterables**\n",
        "\n",
        "You can pass multiple iterables if the function accepts multiple arguments:"
      ],
      "metadata": {
        "id": "k-nIxnJEsEVU"
      }
    },
    {
      "cell_type": "code",
      "source": [
        "a = [1, 2, 3]\n",
        "b = [4, 5, 6]\n",
        "result = map(lambda x, y: x + y, a, b)\n",
        "\n",
        "print(list(result))"
      ],
      "metadata": {
        "colab": {
          "base_uri": "https://localhost:8080/"
        },
        "id": "2yi1OeRCsJT8",
        "outputId": "75200f47-afa1-4163-bb8f-05d5e41da7f2"
      },
      "execution_count": null,
      "outputs": [
        {
          "output_type": "stream",
          "name": "stdout",
          "text": [
            "[5, 7, 9]\n"
          ]
        }
      ]
    },
    {
      "cell_type": "markdown",
      "source": [
        "**Q10. What is the difference between `map()`, `reduce()`, and `filter()` functions in Python?**\n",
        "\n",
        "**Ans:** In Python, map(), reduce(), and filter() are built-in functions that are used for functional programming. They allow you to process and transform data in a concise and readable way. Here's a breakdown of each:\n",
        "\n",
        "**1. map()**\n",
        "\n",
        "*   Purpose: Applies a function to each item in an iterable (like a list) and returns a new iterable with the results.\n",
        "*   Syntax: map(function, iterable)\n",
        "\n",
        "**Example:**"
      ],
      "metadata": {
        "id": "iWHz9iGDsa9y"
      }
    },
    {
      "cell_type": "code",
      "source": [
        "numbers = [1, 2, 3, 4]\n",
        "squared = list(map(lambda x: x**2, numbers))\n",
        "print(squared)"
      ],
      "metadata": {
        "colab": {
          "base_uri": "https://localhost:8080/"
        },
        "id": "vTn0LLpls3B_",
        "outputId": "a436c250-a272-4711-bb53-5cf3adb262e5"
      },
      "execution_count": null,
      "outputs": [
        {
          "output_type": "stream",
          "name": "stdout",
          "text": [
            "[1, 4, 9, 16]\n"
          ]
        }
      ]
    },
    {
      "cell_type": "markdown",
      "source": [
        "**2. filter()**\n",
        "\n",
        "*   Purpose: Filters items in an iterable based on a condition (function that returns True or False).\n",
        "*   Syntax: filter(function, iterable)\n",
        "\n",
        "**Example:**"
      ],
      "metadata": {
        "id": "paJysJcXs-UC"
      }
    },
    {
      "cell_type": "code",
      "source": [
        "numbers = [1, 2, 3, 4, 5, 6]\n",
        "even = list(filter(lambda x: x % 2 == 0, numbers))\n",
        "print(even)"
      ],
      "metadata": {
        "colab": {
          "base_uri": "https://localhost:8080/"
        },
        "id": "4ICn_S0rtNF1",
        "outputId": "c9e7a7de-8efa-4e5f-abe4-9980f3b66183"
      },
      "execution_count": null,
      "outputs": [
        {
          "output_type": "stream",
          "name": "stdout",
          "text": [
            "[2, 4, 6]\n"
          ]
        }
      ]
    },
    {
      "cell_type": "markdown",
      "source": [
        "**3. reduce()**\n",
        "\n",
        "*   Purpose: Applies a function cumulatively to the items of an iterable, reducing it to a single value.\n",
        "*   Syntax: reduce(function, iterable)\n",
        "*   Note: You need to import it from functools.\n",
        "\n",
        "**Example:**"
      ],
      "metadata": {
        "id": "Y_HG-5ZttTGT"
      }
    },
    {
      "cell_type": "code",
      "source": [
        "from functools import reduce\n",
        "\n",
        "numbers = [1, 2, 3, 4]\n",
        "product = reduce(lambda x, y: x * y, numbers)\n",
        "print(product)"
      ],
      "metadata": {
        "colab": {
          "base_uri": "https://localhost:8080/"
        },
        "id": "2nYubhsAtgiK",
        "outputId": "a44ff7d5-7761-48fb-abbe-9fb62d6de4b6"
      },
      "execution_count": null,
      "outputs": [
        {
          "output_type": "stream",
          "name": "stdout",
          "text": [
            "24\n"
          ]
        }
      ]
    },
    {
      "cell_type": "markdown",
      "source": [
        "**Summary Table:**\n",
        "\n",
        "|Function\t             |Purpose\t                        |Returns\t                  |Example Use         |\n",
        "|----------------------|--------------------------------|---------------------------|--------------------|\n",
        "|map()\t               |Transform each item\t            |New iterable\t                  |Squaring numbers    |\n",
        "|filter()\t             |Select items based on condition\t|Filtered iterable\t                 |Getting even numbers|\n",
        "|reduce()\t             |Combine items cumulatively\t    |Single value\t                 |Calculating product or sum      |"
      ],
      "metadata": {
        "id": "EziCOX5YtoOM"
      }
    },
    {
      "cell_type": "markdown",
      "source": [
        "**Q11. Using pen & Paper write the internal mechanism for sum operation using reduce function on this given list:[47,11,42,13];**\n",
        "\n",
        "**Ans:**\n",
        "![Function Assignment.jpg](data:image/jpeg;base64,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)"
      ],
      "metadata": {
        "id": "ywmca6YzRleW"
      }
    },
    {
      "cell_type": "markdown",
      "metadata": {
        "id": "52b3c3a4"
      },
      "source": [
        "**Practical Questions & Answers**\n",
        "\n",
        "**Q1. Write a Python function that takes a list of numbers as input and returns the sum of all even numbers in the list.**"
      ]
    },
    {
      "cell_type": "code",
      "source": [
        "#Ans:\n",
        "\n",
        "def sum_even_numbers(numbers):\n",
        "    return sum(num for num in numbers if num % 2 == 0)\n",
        "\n",
        "my_list = [1, 2, 3, 4, 5, 6]\n",
        "result = sum_even_numbers(my_list)\n",
        "print(\"Sum of even numbers:\", result)\n"
      ],
      "metadata": {
        "colab": {
          "base_uri": "https://localhost:8080/"
        },
        "id": "Mou2uqET3WKT",
        "outputId": "9edd1c55-1730-4096-a630-0206dfcc984a"
      },
      "execution_count": null,
      "outputs": [
        {
          "output_type": "stream",
          "name": "stdout",
          "text": [
            "Sum of even numbers: 12\n"
          ]
        }
      ]
    },
    {
      "cell_type": "markdown",
      "source": [
        "**Q2. Create a Python function that accepts a string and returns the reverse of that string.**"
      ],
      "metadata": {
        "id": "eougp8103vhd"
      }
    },
    {
      "cell_type": "code",
      "source": [
        "#Ans:\n",
        "\n",
        "def reverse_string(s):\n",
        "    return s[::-1]\n",
        "\n",
        "# Example usage:\n",
        "input_str = \"Hello, world!\"\n",
        "reversed_str = reverse_string(input_str)\n",
        "print(reversed_str)"
      ],
      "metadata": {
        "colab": {
          "base_uri": "https://localhost:8080/"
        },
        "id": "ZD73tWbe32CF",
        "outputId": "807a9045-497e-41aa-bb03-a22a2beece8b"
      },
      "execution_count": null,
      "outputs": [
        {
          "output_type": "stream",
          "name": "stdout",
          "text": [
            "!dlrow ,olleH\n"
          ]
        }
      ]
    },
    {
      "cell_type": "markdown",
      "source": [
        "**Q3. Implement a Python function that takes a list of integers and returns a new list containing the squares of each number.**"
      ],
      "metadata": {
        "id": "bxfr7-hl4J4J"
      }
    },
    {
      "cell_type": "code",
      "source": [
        "#Ans:\n",
        "\n",
        "def square_numbers(numbers):\n",
        "    return [x**2 for x in numbers]\n",
        "\n",
        "\n",
        "nums = [1, 2, 3, 4, 5]\n",
        "squared = square_numbers(nums)\n",
        "print(squared)"
      ],
      "metadata": {
        "colab": {
          "base_uri": "https://localhost:8080/"
        },
        "id": "Hzvdg7N04QtB",
        "outputId": "e0b74023-a84a-4162-c13a-24dba90bd885"
      },
      "execution_count": null,
      "outputs": [
        {
          "output_type": "stream",
          "name": "stdout",
          "text": [
            "[1, 4, 9, 16, 25]\n"
          ]
        }
      ]
    },
    {
      "cell_type": "markdown",
      "source": [
        "**Q4. Write a Python function that checks if a given number is prime or not from 1 to 200.**"
      ],
      "metadata": {
        "id": "pxWAbgJI4fgG"
      }
    },
    {
      "cell_type": "code",
      "source": [
        "#Ans:\n",
        "\n",
        "def is_prime(n):\n",
        "    if n <= 1:\n",
        "        return False\n",
        "    if n == 2:\n",
        "        return True\n",
        "    if n % 2 == 0:\n",
        "        return False\n",
        "    for i in range(3, int(n**0.5) + 1, 2):\n",
        "        if n % i == 0:\n",
        "            return False\n",
        "    return True\n",
        "\n",
        "# Check and print prime numbers from 1 to 200\n",
        "for num in range(1, 201):\n",
        "    if is_prime(num):\n",
        "        print(f\"{num} is a prime number.\")\n",
        "    else:\n",
        "        print(f\"{num} is not a prime number.\")"
      ],
      "metadata": {
        "colab": {
          "base_uri": "https://localhost:8080/"
        },
        "id": "lpNV88b54ngt",
        "outputId": "3905a20e-3516-4f46-9412-eec642ea452f"
      },
      "execution_count": null,
      "outputs": [
        {
          "output_type": "stream",
          "name": "stdout",
          "text": [
            "1 is not a prime number.\n",
            "2 is a prime number.\n",
            "3 is a prime number.\n",
            "4 is not a prime number.\n",
            "5 is a prime number.\n",
            "6 is not a prime number.\n",
            "7 is a prime number.\n",
            "8 is not a prime number.\n",
            "9 is not a prime number.\n",
            "10 is not a prime number.\n",
            "11 is a prime number.\n",
            "12 is not a prime number.\n",
            "13 is a prime number.\n",
            "14 is not a prime number.\n",
            "15 is not a prime number.\n",
            "16 is not a prime number.\n",
            "17 is a prime number.\n",
            "18 is not a prime number.\n",
            "19 is a prime number.\n",
            "20 is not a prime number.\n",
            "21 is not a prime number.\n",
            "22 is not a prime number.\n",
            "23 is a prime number.\n",
            "24 is not a prime number.\n",
            "25 is not a prime number.\n",
            "26 is not a prime number.\n",
            "27 is not a prime number.\n",
            "28 is not a prime number.\n",
            "29 is a prime number.\n",
            "30 is not a prime number.\n",
            "31 is a prime number.\n",
            "32 is not a prime number.\n",
            "33 is not a prime number.\n",
            "34 is not a prime number.\n",
            "35 is not a prime number.\n",
            "36 is not a prime number.\n",
            "37 is a prime number.\n",
            "38 is not a prime number.\n",
            "39 is not a prime number.\n",
            "40 is not a prime number.\n",
            "41 is a prime number.\n",
            "42 is not a prime number.\n",
            "43 is a prime number.\n",
            "44 is not a prime number.\n",
            "45 is not a prime number.\n",
            "46 is not a prime number.\n",
            "47 is a prime number.\n",
            "48 is not a prime number.\n",
            "49 is not a prime number.\n",
            "50 is not a prime number.\n",
            "51 is not a prime number.\n",
            "52 is not a prime number.\n",
            "53 is a prime number.\n",
            "54 is not a prime number.\n",
            "55 is not a prime number.\n",
            "56 is not a prime number.\n",
            "57 is not a prime number.\n",
            "58 is not a prime number.\n",
            "59 is a prime number.\n",
            "60 is not a prime number.\n",
            "61 is a prime number.\n",
            "62 is not a prime number.\n",
            "63 is not a prime number.\n",
            "64 is not a prime number.\n",
            "65 is not a prime number.\n",
            "66 is not a prime number.\n",
            "67 is a prime number.\n",
            "68 is not a prime number.\n",
            "69 is not a prime number.\n",
            "70 is not a prime number.\n",
            "71 is a prime number.\n",
            "72 is not a prime number.\n",
            "73 is a prime number.\n",
            "74 is not a prime number.\n",
            "75 is not a prime number.\n",
            "76 is not a prime number.\n",
            "77 is not a prime number.\n",
            "78 is not a prime number.\n",
            "79 is a prime number.\n",
            "80 is not a prime number.\n",
            "81 is not a prime number.\n",
            "82 is not a prime number.\n",
            "83 is a prime number.\n",
            "84 is not a prime number.\n",
            "85 is not a prime number.\n",
            "86 is not a prime number.\n",
            "87 is not a prime number.\n",
            "88 is not a prime number.\n",
            "89 is a prime number.\n",
            "90 is not a prime number.\n",
            "91 is not a prime number.\n",
            "92 is not a prime number.\n",
            "93 is not a prime number.\n",
            "94 is not a prime number.\n",
            "95 is not a prime number.\n",
            "96 is not a prime number.\n",
            "97 is a prime number.\n",
            "98 is not a prime number.\n",
            "99 is not a prime number.\n",
            "100 is not a prime number.\n",
            "101 is a prime number.\n",
            "102 is not a prime number.\n",
            "103 is a prime number.\n",
            "104 is not a prime number.\n",
            "105 is not a prime number.\n",
            "106 is not a prime number.\n",
            "107 is a prime number.\n",
            "108 is not a prime number.\n",
            "109 is a prime number.\n",
            "110 is not a prime number.\n",
            "111 is not a prime number.\n",
            "112 is not a prime number.\n",
            "113 is a prime number.\n",
            "114 is not a prime number.\n",
            "115 is not a prime number.\n",
            "116 is not a prime number.\n",
            "117 is not a prime number.\n",
            "118 is not a prime number.\n",
            "119 is not a prime number.\n",
            "120 is not a prime number.\n",
            "121 is not a prime number.\n",
            "122 is not a prime number.\n",
            "123 is not a prime number.\n",
            "124 is not a prime number.\n",
            "125 is not a prime number.\n",
            "126 is not a prime number.\n",
            "127 is a prime number.\n",
            "128 is not a prime number.\n",
            "129 is not a prime number.\n",
            "130 is not a prime number.\n",
            "131 is a prime number.\n",
            "132 is not a prime number.\n",
            "133 is not a prime number.\n",
            "134 is not a prime number.\n",
            "135 is not a prime number.\n",
            "136 is not a prime number.\n",
            "137 is a prime number.\n",
            "138 is not a prime number.\n",
            "139 is a prime number.\n",
            "140 is not a prime number.\n",
            "141 is not a prime number.\n",
            "142 is not a prime number.\n",
            "143 is not a prime number.\n",
            "144 is not a prime number.\n",
            "145 is not a prime number.\n",
            "146 is not a prime number.\n",
            "147 is not a prime number.\n",
            "148 is not a prime number.\n",
            "149 is a prime number.\n",
            "150 is not a prime number.\n",
            "151 is a prime number.\n",
            "152 is not a prime number.\n",
            "153 is not a prime number.\n",
            "154 is not a prime number.\n",
            "155 is not a prime number.\n",
            "156 is not a prime number.\n",
            "157 is a prime number.\n",
            "158 is not a prime number.\n",
            "159 is not a prime number.\n",
            "160 is not a prime number.\n",
            "161 is not a prime number.\n",
            "162 is not a prime number.\n",
            "163 is a prime number.\n",
            "164 is not a prime number.\n",
            "165 is not a prime number.\n",
            "166 is not a prime number.\n",
            "167 is a prime number.\n",
            "168 is not a prime number.\n",
            "169 is not a prime number.\n",
            "170 is not a prime number.\n",
            "171 is not a prime number.\n",
            "172 is not a prime number.\n",
            "173 is a prime number.\n",
            "174 is not a prime number.\n",
            "175 is not a prime number.\n",
            "176 is not a prime number.\n",
            "177 is not a prime number.\n",
            "178 is not a prime number.\n",
            "179 is a prime number.\n",
            "180 is not a prime number.\n",
            "181 is a prime number.\n",
            "182 is not a prime number.\n",
            "183 is not a prime number.\n",
            "184 is not a prime number.\n",
            "185 is not a prime number.\n",
            "186 is not a prime number.\n",
            "187 is not a prime number.\n",
            "188 is not a prime number.\n",
            "189 is not a prime number.\n",
            "190 is not a prime number.\n",
            "191 is a prime number.\n",
            "192 is not a prime number.\n",
            "193 is a prime number.\n",
            "194 is not a prime number.\n",
            "195 is not a prime number.\n",
            "196 is not a prime number.\n",
            "197 is a prime number.\n",
            "198 is not a prime number.\n",
            "199 is a prime number.\n",
            "200 is not a prime number.\n"
          ]
        }
      ]
    },
    {
      "cell_type": "markdown",
      "source": [
        "**Q5. Create an iterator class in Python that generates the Fibonacci sequence up to a specified number of terms.**"
      ],
      "metadata": {
        "id": "6eXuN4Rz5TFv"
      }
    },
    {
      "cell_type": "code",
      "source": [
        "#Ans:\n",
        "\n",
        "class FibonacciIterator:\n",
        "    def __init__(self, num_terms):\n",
        "        self.num_terms = num_terms\n",
        "        self.count = 0\n",
        "        self.a, self.b = 0, 1\n",
        "\n",
        "    def __iter__(self):\n",
        "        return self\n",
        "\n",
        "    def __next__(self):\n",
        "        if self.count >= self.num_terms:\n",
        "            raise StopIteration\n",
        "        if self.count == 0:\n",
        "            self.count += 1\n",
        "            return 0\n",
        "        elif self.count == 1:\n",
        "            self.count += 1\n",
        "            return 1\n",
        "        else:\n",
        "            self.a, self.b = self.b, self.a + self.b\n",
        "            self.count += 1\n",
        "            return self.b\n",
        "\n",
        "# Example usage:\n",
        "fib = FibonacciIterator(10)\n",
        "for num in fib:\n",
        "    print(num)"
      ],
      "metadata": {
        "colab": {
          "base_uri": "https://localhost:8080/"
        },
        "id": "4TMGaCmi5cVZ",
        "outputId": "bc51347b-b22f-412d-9ae5-625d7da39c5e"
      },
      "execution_count": null,
      "outputs": [
        {
          "output_type": "stream",
          "name": "stdout",
          "text": [
            "0\n",
            "1\n",
            "1\n",
            "2\n",
            "3\n",
            "5\n",
            "8\n",
            "13\n",
            "21\n",
            "34\n"
          ]
        }
      ]
    },
    {
      "cell_type": "markdown",
      "source": [
        "**Q6. Write a generator function in Python that yields the powers of 2 up to a given exponent.**"
      ],
      "metadata": {
        "id": "LcmhtAEy5mek"
      }
    },
    {
      "cell_type": "code",
      "source": [
        "#Ans:\n",
        "\n",
        "def powers_of_two(max_exponent):\n",
        "    for exponent in range(max_exponent + 1):\n",
        "        yield 2 ** exponent\n",
        "\n",
        "\n",
        "#Exmaple Use:\n",
        "for power in powers_of_two(5):\n",
        "    print(power)"
      ],
      "metadata": {
        "colab": {
          "base_uri": "https://localhost:8080/"
        },
        "id": "FmIMWL4W5tjQ",
        "outputId": "7fcb235e-12c5-4ed0-91b8-ccedbdaaa39b"
      },
      "execution_count": null,
      "outputs": [
        {
          "output_type": "stream",
          "name": "stdout",
          "text": [
            "1\n",
            "2\n",
            "4\n",
            "8\n",
            "16\n",
            "32\n"
          ]
        }
      ]
    },
    {
      "cell_type": "markdown",
      "metadata": {
        "id": "58cf5cd6"
      },
      "source": [
        "**Q7. Implement a generator function that reads a file line by line and yields each line as a string.**"
      ]
    },
    {
      "cell_type": "code",
      "source": [
        "#Ans:\n",
        "\n",
        "def read_file_line_by_line(file_path):\n",
        "    \"\"\"Generator that yields each line from a file.\"\"\"\n",
        "    try:\n",
        "        with open(file_path, 'r') as file:\n",
        "            for line in file:\n",
        "                yield line.rstrip('\\n')  # Removes the newline character\n",
        "    except FileNotFoundError:\n",
        "        print(f\"Error: The file '{file_path}' was not found.\")\n",
        "\n",
        "\n",
        "# Example usage:\n",
        "# Create a dummy file for demonstration\n",
        "with open('example.txt', 'w') as f:\n",
        "    f.write(\"This is line 1.\\n\")\n",
        "    f.write(\"This is line 2.\\n\")\n",
        "    f.write(\"This is line 3.\")\n",
        "\n",
        "for line in read_file_line_by_line('example.txt'):\n",
        "    print(line)"
      ],
      "metadata": {
        "colab": {
          "base_uri": "https://localhost:8080/"
        },
        "id": "TDTfzn1q6ShJ",
        "outputId": "c04a2c4b-0cd2-40d2-fc6f-af80c30a4ebc"
      },
      "execution_count": null,
      "outputs": [
        {
          "output_type": "stream",
          "name": "stdout",
          "text": [
            "This is line 1.\n",
            "This is line 2.\n",
            "This is line 3.\n"
          ]
        }
      ]
    },
    {
      "cell_type": "markdown",
      "source": [
        "**Q8. Use a lambda function in Python to sort a list of tuples based on the second element of each tuple.**"
      ],
      "metadata": {
        "id": "yPTHUKVZ8k3q"
      }
    },
    {
      "cell_type": "code",
      "metadata": {
        "colab": {
          "base_uri": "https://localhost:8080/"
        },
        "id": "b87e17be",
        "outputId": "9c631e5e-2bad-48a4-8d4e-fd971e2c2571"
      },
      "source": [
        "#Ans:\n",
        "\n",
        "# Sample list of tuples\n",
        "data = [(1, 3), (4, 1), (2, 5), (3, 2)]\n",
        "\n",
        "# Sort by the second element of each tuple using a lambda function\n",
        "sorted_data = sorted(data, key=lambda x: x[1])\n",
        "\n",
        "# Print the sorted list\n",
        "print(sorted_data)"
      ],
      "execution_count": null,
      "outputs": [
        {
          "output_type": "stream",
          "name": "stdout",
          "text": [
            "[(4, 1), (3, 2), (1, 3), (2, 5)]\n"
          ]
        }
      ]
    },
    {
      "cell_type": "markdown",
      "source": [
        "**Q9. Write a Python program that uses `map()` to convert a list of temperatures from Celsius to Fahrenheit.**"
      ],
      "metadata": {
        "id": "dmwHT6QA9dYm"
      }
    },
    {
      "cell_type": "code",
      "metadata": {
        "colab": {
          "base_uri": "https://localhost:8080/"
        },
        "id": "73982a55",
        "outputId": "397e3e9e-23af-4824-c362-916e71a4c529"
      },
      "source": [
        "#Ans:\n",
        "\n",
        "def celsius_to_fahrenheit(celsius):\n",
        "  \"\"\"Converts Celsius to Fahrenheit.\"\"\"\n",
        "  return (celsius * 9/5) + 32\n",
        "\n",
        "# List of temperatures in Celsius\n",
        "celsius_temperatures = [0, 10, 20, 30, 40]\n",
        "\n",
        "# Use map() to convert Celsius temperatures to Fahrenheit\n",
        "fahrenheit_temperatures = list(map(celsius_to_fahrenheit, celsius_temperatures))\n",
        "\n",
        "# Print the original and converted temperatures\n",
        "print(\"Celsius temperatures:\", celsius_temperatures)\n",
        "print(\"Fahrenheit temperatures:\", fahrenheit_temperatures)"
      ],
      "execution_count": null,
      "outputs": [
        {
          "output_type": "stream",
          "name": "stdout",
          "text": [
            "Celsius temperatures: [0, 10, 20, 30, 40]\n",
            "Fahrenheit temperatures: [32.0, 50.0, 68.0, 86.0, 104.0]\n"
          ]
        }
      ]
    },
    {
      "cell_type": "markdown",
      "source": [
        "**Q10. Create a Python program that uses `filter()` to remove all the vowels from a given string.**"
      ],
      "metadata": {
        "id": "h26wLUmi94-w"
      }
    },
    {
      "cell_type": "code",
      "metadata": {
        "colab": {
          "base_uri": "https://localhost:8080/"
        },
        "id": "4dbf72c0",
        "outputId": "38a3cf55-03b6-4412-a85e-d0de2435bd06"
      },
      "source": [
        "#Ans:\n",
        "\n",
        "def remove_vowels(text):\n",
        "    \"\"\"Removes vowels from a given string using filter().\"\"\"\n",
        "    vowels = \"aeiouAEIOU\"\n",
        "    return \"\".join(filter(lambda x: x not in vowels, text))\n",
        "\n",
        "# Example usage:\n",
        "input_string = \"Hello World\"\n",
        "string_without_vowels = remove_vowels(input_string)\n",
        "print(string_without_vowels)"
      ],
      "execution_count": null,
      "outputs": [
        {
          "output_type": "stream",
          "name": "stdout",
          "text": [
            "Hll Wrld\n"
          ]
        }
      ]
    },
    {
      "cell_type": "markdown",
      "source": [
        "**Q11) Imagine an accounting routine used in a book shop. It works on a list with sublists, which look like this:**"
      ],
      "metadata": {
        "id": "O8x-g1qo-yG1"
      }
    },
    {
      "cell_type": "code",
      "source": [
        "#Ans: Data formate: [Order Number,Book Title and Author, Quntity, Price per Item]\n",
        "\n",
        "orders = [[34587, \"Learning Python, Mark Lutz\", 4, 40.95],\n",
        "    [98762, \"Programming Python, Mark Lutz\", 5, 56.80],\n",
        "    [77226, \"Head First Python, Paul Barry\", 3, 32.95],\n",
        "    [88112, \"Einführung in Python3, Bernd Klein\", 3, 24.99]]\n",
        "\n",
        "result = list(map(\n",
        "    lambda order: (\n",
        "        order[0],  # Keep the order number\n",
        "        order[2] * order[3] + (10 if order[2] * order[3] < 100 else 0)\n",
        "    ),\n",
        "    orders\n",
        "))\n",
        "print(result)"
      ],
      "metadata": {
        "colab": {
          "base_uri": "https://localhost:8080/"
        },
        "id": "36HJpa2a-1Gt",
        "outputId": "fcb724df-6c7e-4988-ea6b-29e26427c09f"
      },
      "execution_count": null,
      "outputs": [
        {
          "output_type": "stream",
          "name": "stdout",
          "text": [
            "[(34587, 163.8), (98762, 284.0), (77226, 108.85000000000001), (88112, 84.97)]\n"
          ]
        }
      ]
    }
  ]
}